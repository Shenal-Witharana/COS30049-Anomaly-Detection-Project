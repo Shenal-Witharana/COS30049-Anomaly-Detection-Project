{
 "cells": [
  {
   "cell_type": "code",
   "execution_count": 2,
   "id": "176362bb",
   "metadata": {},
   "outputs": [],
   "source": [
    "import numpy as np, pandas as pd, matplotlib.pyplot as plt, seaborn as sns\n",
    "from pathlib import Path\n",
    "from sklearn.model_selection import train_test_split\n",
    "from sklearn.preprocessing import OneHotEncoder, StandardScaler\n",
    "from sklearn.compose import ColumnTransformer\n",
    "from sklearn.impute import SimpleImputer\n",
    "from sklearn.pipeline import Pipeline\n",
    "from sklearn.ensemble import RandomForestClassifier\n",
    "from sklearn.metrics import f1_score\n",
    "\n",
    "RAW_DIR = \"../data/raw/cicids_simplified\"\n",
    "df = pd.read_csv(f\"{RAW_DIR}/basic_data_4.csv\")\n",
    "df.columns = df.columns.str.strip().str.lower()\n",
    "\n",
    "# Label mapping 5-class + binary\n",
    "labmap = pd.read_csv(f\"{RAW_DIR}/label_category_map.csv\")\n",
    "labmap.columns = labmap.columns.str.strip().str.lower()\n",
    "raw_col = labmap.columns[0]; cat_col = labmap.columns[1]\n",
    "df[\"label\"] = df[\"label\"].astype(str).str.strip().str.lower()\n",
    "df = df.merge(labmap[[raw_col, cat_col]], left_on=\"label\", right_on=raw_col, how=\"left\")\n",
    "df[cat_col] = np.where((df[\"label\"]==\"normal\") & (df[cat_col].isna()), \"normal\", df[cat_col])\n",
    "df[\"label_binary\"] = (df[cat_col]!=\"normal\").astype(int)\n"
   ]
  },
  {
   "cell_type": "code",
   "execution_count": 3,
   "id": "42e81f0c",
   "metadata": {},
   "outputs": [
    {
     "data": {
      "text/html": [
       "<div>\n",
       "<style scoped>\n",
       "    .dataframe tbody tr th:only-of-type {\n",
       "        vertical-align: middle;\n",
       "    }\n",
       "\n",
       "    .dataframe tbody tr th {\n",
       "        vertical-align: top;\n",
       "    }\n",
       "\n",
       "    .dataframe thead th {\n",
       "        text-align: right;\n",
       "    }\n",
       "</style>\n",
       "<table border=\"1\" class=\"dataframe\">\n",
       "  <thead>\n",
       "    <tr style=\"text-align: right;\">\n",
       "      <th></th>\n",
       "      <th>duration</th>\n",
       "      <th>protocol_type</th>\n",
       "      <th>service</th>\n",
       "      <th>flag</th>\n",
       "      <th>src_bytes</th>\n",
       "      <th>dst_bytes</th>\n",
       "      <th>count</th>\n",
       "      <th>srv_count</th>\n",
       "      <th>serror_rate</th>\n",
       "      <th>label</th>\n",
       "      <th>category</th>\n",
       "      <th>label_binary</th>\n",
       "      <th>bytes_total</th>\n",
       "      <th>bytes_ratio_src</th>\n",
       "      <th>log_bytes_total</th>\n",
       "      <th>count_per_srv</th>\n",
       "      <th>duration_per_conn</th>\n",
       "      <th>service_group</th>\n",
       "    </tr>\n",
       "  </thead>\n",
       "  <tbody>\n",
       "    <tr>\n",
       "      <th>19373</th>\n",
       "      <td>0.0</td>\n",
       "      <td>udp</td>\n",
       "      <td>domain_u</td>\n",
       "      <td>SF</td>\n",
       "      <td>17.0</td>\n",
       "      <td>73.0</td>\n",
       "      <td>1.0</td>\n",
       "      <td>3.0</td>\n",
       "      <td>0.0</td>\n",
       "      <td>normal</td>\n",
       "      <td>Normal</td>\n",
       "      <td>1</td>\n",
       "      <td>90.0</td>\n",
       "      <td>0.186813</td>\n",
       "      <td>4.510860</td>\n",
       "      <td>0.25</td>\n",
       "      <td>0.0</td>\n",
       "      <td>dns</td>\n",
       "    </tr>\n",
       "    <tr>\n",
       "      <th>10693</th>\n",
       "      <td>26.0</td>\n",
       "      <td>tcp</td>\n",
       "      <td>ftp</td>\n",
       "      <td>SF</td>\n",
       "      <td>361.0</td>\n",
       "      <td>1181.0</td>\n",
       "      <td>1.0</td>\n",
       "      <td>1.0</td>\n",
       "      <td>0.0</td>\n",
       "      <td>normal</td>\n",
       "      <td>Normal</td>\n",
       "      <td>1</td>\n",
       "      <td>1542.0</td>\n",
       "      <td>0.233960</td>\n",
       "      <td>7.341484</td>\n",
       "      <td>0.50</td>\n",
       "      <td>13.0</td>\n",
       "      <td>ftp</td>\n",
       "    </tr>\n",
       "    <tr>\n",
       "      <th>2615</th>\n",
       "      <td>0.0</td>\n",
       "      <td>tcp</td>\n",
       "      <td>http</td>\n",
       "      <td>SF</td>\n",
       "      <td>198.0</td>\n",
       "      <td>2656.0</td>\n",
       "      <td>8.0</td>\n",
       "      <td>9.0</td>\n",
       "      <td>0.0</td>\n",
       "      <td>normal</td>\n",
       "      <td>Normal</td>\n",
       "      <td>1</td>\n",
       "      <td>2854.0</td>\n",
       "      <td>0.069352</td>\n",
       "      <td>7.956827</td>\n",
       "      <td>0.80</td>\n",
       "      <td>0.0</td>\n",
       "      <td>web</td>\n",
       "    </tr>\n",
       "  </tbody>\n",
       "</table>\n",
       "</div>"
      ],
      "text/plain": [
       "       duration protocol_type   service flag  src_bytes  dst_bytes  count  \\\n",
       "19373       0.0           udp  domain_u   SF       17.0       73.0    1.0   \n",
       "10693      26.0           tcp       ftp   SF      361.0     1181.0    1.0   \n",
       "2615        0.0           tcp      http   SF      198.0     2656.0    8.0   \n",
       "\n",
       "       srv_count  serror_rate   label category  label_binary  bytes_total  \\\n",
       "19373        3.0          0.0  normal   Normal             1         90.0   \n",
       "10693        1.0          0.0  normal   Normal             1       1542.0   \n",
       "2615         9.0          0.0  normal   Normal             1       2854.0   \n",
       "\n",
       "       bytes_ratio_src  log_bytes_total  count_per_srv  duration_per_conn  \\\n",
       "19373         0.186813         4.510860           0.25                0.0   \n",
       "10693         0.233960         7.341484           0.50               13.0   \n",
       "2615          0.069352         7.956827           0.80                0.0   \n",
       "\n",
       "      service_group  \n",
       "19373           dns  \n",
       "10693           ftp  \n",
       "2615            web  "
      ]
     },
     "execution_count": 3,
     "metadata": {},
     "output_type": "execute_result"
    }
   ],
   "source": [
    "def engineer_features(d):\n",
    "    d = d.copy()\n",
    "    # bytes\n",
    "    d[\"bytes_total\"] = d[\"src_bytes\"].clip(lower=0) + d[\"dst_bytes\"].clip(lower=0)\n",
    "    d[\"bytes_ratio_src\"] = d[\"src_bytes\"].clip(lower=0) / (d[\"bytes_total\"] + 1)\n",
    "    d[\"log_bytes_total\"] = np.log1p(d[\"bytes_total\"])\n",
    "    # traffic intensity\n",
    "    d[\"count_per_srv\"] = d[\"count\"] / (d[\"srv_count\"] + 1)\n",
    "    d[\"duration_per_conn\"] = d[\"duration\"] / (d[\"count\"] + 1)\n",
    "    # service grouping \n",
    "    web = {\"http\",\"http_443\",\"http_8001\",\"www\"}\n",
    "    mail = {\"smtp\",\"imap4\",\"pop_2\",\"pop_3\"}\n",
    "    ftp  = {\"ftp\",\"ftp_data\"}\n",
    "    dns  = {\"domain\",\"domain_u\"}\n",
    "    d[\"service_group\"] = np.where(d[\"service\"].isin(web), \"web\",\n",
    "                          np.where(d[\"service\"].isin(mail), \"mail\",\n",
    "                          np.where(d[\"service\"].isin(ftp),  \"ftp\",\n",
    "                          np.where(d[\"service\"].isin(dns),  \"dns\", \"other\"))))\n",
    "    return d\n",
    "\n",
    "df_fe = engineer_features(df)\n",
    "df_fe.sample(3)\n"
   ]
  },
  {
   "cell_type": "code",
   "execution_count": 4,
   "id": "b99a94d8",
   "metadata": {},
   "outputs": [
    {
     "data": {
      "text/plain": [
       "['serror_rate']"
      ]
     },
     "execution_count": 4,
     "metadata": {},
     "output_type": "execute_result"
    }
   ],
   "source": [
    "# Near-constant\n",
    "num_cols = [\"duration\",\"src_bytes\",\"dst_bytes\",\"count\",\"srv_count\",\"serror_rate\",\n",
    "            \"bytes_total\",\"bytes_ratio_src\",\"log_bytes_total\",\"count_per_srv\",\"duration_per_conn\"]\n",
    "low_var = [c for c in num_cols if df_fe[c].nunique()/len(df_fe) < 0.01]\n",
    "low_var\n"
   ]
  },
  {
   "cell_type": "code",
   "execution_count": 5,
   "id": "7a44bdd1",
   "metadata": {},
   "outputs": [
    {
     "data": {
      "text/plain": [
       "[('duration', 'duration_per_conn', np.float64(0.9845993926816698)),\n",
       " ('src_bytes', 'bytes_total', np.float64(0.9993220329680155)),\n",
       " ('bytes_total', 'src_bytes', np.float64(0.9993220329680155)),\n",
       " ('duration_per_conn', 'duration', np.float64(0.9845993926816698))]"
      ]
     },
     "execution_count": 5,
     "metadata": {},
     "output_type": "execute_result"
    }
   ],
   "source": [
    "corr = df_fe[num_cols].corr().abs()\n",
    "high_pairs = np.column_stack(np.where((corr.values > 0.95) & (corr.values < 0.9999)))\n",
    "[(num_cols[i], num_cols[j], corr.values[i,j]) for i,j in high_pairs[:10]]"
   ]
  },
  {
   "cell_type": "code",
   "execution_count": 6,
   "id": "7dfdf4ab",
   "metadata": {},
   "outputs": [
    {
     "name": "stdout",
     "output_type": "stream",
     "text": [
      "RF F1: 1.0\n"
     ]
    }
   ],
   "source": [
    "keep_num = [c for c in num_cols if c not in low_var]\n",
    "cat_cols = [\"protocol_type\",\"service_group\",\"flag\"]\n",
    "\n",
    "X = df_fe[keep_num + cat_cols]\n",
    "y = df_fe[\"label_binary\"].values\n",
    "\n",
    "# Simple split\n",
    "Xtr, Xte, ytr, yte = train_test_split(X, y, test_size=0.2, random_state=42, stratify=y)\n",
    "\n",
    "num_pipe = Pipeline([(\"imp\", SimpleImputer(strategy=\"median\")),\n",
    "                     (\"sc\", StandardScaler())])\n",
    "cat_pipe = Pipeline([(\"imp\", SimpleImputer(strategy=\"most_frequent\")),\n",
    "                     (\"ohe\", OneHotEncoder(handle_unknown=\"ignore\"))])\n",
    "\n",
    "pre = ColumnTransformer([(\"num\", num_pipe, keep_num), (\"cat\", cat_pipe, cat_cols)])\n",
    "clf = RandomForestClassifier(n_estimators=300, n_jobs=-1, class_weight=\"balanced\")\n",
    "\n",
    "from sklearn.pipeline import make_pipeline\n",
    "pipe = make_pipeline(pre, clf).fit(Xtr, ytr)\n",
    "pred = pipe.predict(Xte)\n",
    "print(\"RF F1:\", f1_score(yte, pred))\n"
   ]
  }
 ],
 "metadata": {
  "kernelspec": {
   "display_name": "Python 3",
   "language": "python",
   "name": "python3"
  },
  "language_info": {
   "codemirror_mode": {
    "name": "ipython",
    "version": 3
   },
   "file_extension": ".py",
   "mimetype": "text/x-python",
   "name": "python",
   "nbconvert_exporter": "python",
   "pygments_lexer": "ipython3",
   "version": "3.10.18"
  }
 },
 "nbformat": 4,
 "nbformat_minor": 5
}
