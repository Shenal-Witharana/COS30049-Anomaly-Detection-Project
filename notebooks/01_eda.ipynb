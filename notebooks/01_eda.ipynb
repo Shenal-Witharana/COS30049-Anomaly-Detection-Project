{
 "cells": [
  {
   "cell_type": "code",
   "execution_count": null,
   "id": "e613ca4f",
   "metadata": {},
   "outputs": [],
   "source": [
    "# Paths\n",
    "RAW_DIR = \"data/raw/cicids_simplified\"\n",
    "PROC_BIN_DIR = \"data/processed\"         # from --target binary\n",
    "PROC_FIVE_DIR = \"data/processed_five\"   # from --target fiveclass\n",
    "\n",
    "# Imports\n",
    "import os, pathlib, numpy as np, pandas as pd, matplotlib.pyplot as plt, seaborn as sns\n",
    "from pathlib import Path\n",
    "\n",
    "# Make figs dir\n",
    "Path(\"report/figs\").mkdir(parents=True, exist_ok=True)\n",
    "\n",
    "# Matplotlib defaults\n",
    "plt.rcParams[\"figure.dpi\"] = 140\n",
    "sns.set_context(\"talk\")\n"
   ]
  },
  {
   "cell_type": "code",
   "execution_count": null,
   "id": "586b139c",
   "metadata": {},
   "outputs": [],
   "source": [
    "def load_splits(dir_):\n",
    "    dir_ = Path(dir_)\n",
    "    tr = pd.read_csv(dir_/\"train.csv\")\n",
    "    va = pd.read_csv(dir_/\"val.csv\")\n",
    "    te = pd.read_csv(dir_/\"test.csv\")\n",
    "    return tr, va, te\n",
    "\n",
    "bin_tr, bin_va, bin_te   = load_splits(PROC_BIN_DIR)\n",
    "five_tr, five_va, five_te = load_splits(PROC_FIVE_DIR)\n",
    "\n",
    "raw_df = pd.read_csv(f\"{RAW_DIR}/basic_data_4.csv\")\n",
    "raw_df.columns = raw_df.columns.str.strip().str.lower()\n"
   ]
  },
  {
   "cell_type": "code",
   "execution_count": null,
   "id": "dc67d890",
   "metadata": {},
   "outputs": [],
   "source": [
    "def plot_class_balance_binary(tr, va, te, out=\"report/figs/class_balance_binary.png\"):\n",
    "    fig, axes = plt.subplots(1, 3, figsize=(11, 3.8), sharey=True)\n",
    "    for ax, df, title in zip(axes, [tr, va, te], [\"Train\", \"Val\", \"Test\"]):\n",
    "        vc = df[\"label\"].value_counts(normalize=True).sort_index().rename({0:\"normal\",1:\"attack\"})\n",
    "        sns.barplot(x=vc.index, y=vc.values, ax=ax)\n",
    "        ax.set_title(title); ax.set_ylabel(\"proportion\"); ax.set_xlabel(\"\")\n",
    "        for p, v in zip(ax.patches, vc.values):\n",
    "            ax.text(p.get_x()+p.get_width()/2, p.get_height()+0.01, f\"{v:.2f}\", ha=\"center\", va=\"bottom\", fontsize=10)\n",
    "    plt.tight_layout()\n",
    "    plt.savefig(out); plt.show()\n",
    "\n",
    "plot_class_balance_binary(bin_tr, bin_va, bin_te)\n"
   ]
  },
  {
   "cell_type": "code",
   "execution_count": null,
   "id": "e918bdc8",
   "metadata": {},
   "outputs": [],
   "source": [
    "def plot_class_balance_five(tr, va, te, out=\"report/figs/class_balance_fiveclass.png\"):\n",
    "    fig, axes = plt.subplots(1, 3, figsize=(16, 4.2), sharey=True)\n",
    "    for ax, df, title in zip(axes, [tr, va, te], [\"Train\", \"Val\", \"Test\"]):\n",
    "        vc = df[\"label\"].astype(str).value_counts(normalize=True)\n",
    "        sns.barplot(y=vc.index, x=vc.values, ax=ax, orient=\"h\")\n",
    "        ax.set_title(title); ax.set_xlabel(\"proportion\"); ax.set_ylabel(\"\")\n",
    "    plt.tight_layout()\n",
    "    plt.savefig(out); plt.show()\n",
    "\n",
    "plot_class_balance_five(five_tr, five_va, five_te)\n"
   ]
  },
  {
   "cell_type": "code",
   "execution_count": null,
   "id": "114be9ea",
   "metadata": {},
   "outputs": [],
   "source": [
    "def plot_missingness(df, out=\"report/figs/missingness_raw.png\"):\n",
    "    miss = df.isna().mean().sort_values(ascending=False)\n",
    "    fig = plt.figure(figsize=(8,4))\n",
    "    sns.barplot(x=miss.values, y=miss.index)\n",
    "    plt.xlabel(\"missingness (fraction)\"); plt.ylabel(\"feature\")\n",
    "    plt.title(\"Raw data missingness\")\n",
    "    plt.tight_layout(); plt.savefig(out); plt.show()\n",
    "\n",
    "plot_missingness(raw_df)\n"
   ]
  },
  {
   "cell_type": "code",
   "execution_count": null,
   "id": "086cf8b8",
   "metadata": {},
   "outputs": [],
   "source": [
    "# Map raw label\n",
    "labmap = pd.read_csv(f\"{RAW_DIR}/label_category_map.csv\")\n",
    "labmap.columns = labmap.columns.str.strip().str.lower()\n",
    "raw_df[\"label\"] = raw_df[\"label\"].astype(str).str.lower().str.strip()\n",
    "raw_df = raw_df.merge(labmap, left_on=\"label\", right_on=labmap.columns[0], how=\"left\")\n",
    "raw_df[\"label_binary\"] = (raw_df[\"category\"].fillna(\"normal\") != \"normal\").astype(int)\n",
    "\n",
    "num_cols = [\"duration\",\"src_bytes\",\"dst_bytes\",\"count\",\"srv_count\",\"serror_rate\"]\n",
    "\n",
    "for c in [\"src_bytes\",\"dst_bytes\"]:\n",
    "    raw_df[f\"log_{c}\"] = np.log1p(raw_df[c].clip(lower=0))\n",
    "\n",
    "def dist_grid(df, cols, hue, out=\"report/figs/numeric_distributions_binary.png\"):\n",
    "    n = len(cols); ncols = 3; nrows = int(np.ceil(n/ncols))\n",
    "    fig, axes = plt.subplots(nrows, ncols, figsize=(14, 4*nrows))\n",
    "    axes = axes.flatten()\n",
    "    for ax, c in zip(axes, cols):\n",
    "        sns.kdeplot(data=df, x=c, hue=hue, common_norm=False, ax=ax)\n",
    "        ax.set_title(c)\n",
    "    for ax in axes[n:]:\n",
    "        ax.axis(\"off\")\n",
    "    plt.tight_layout(); plt.savefig(out); plt.show()\n",
    "\n",
    "dist_grid(raw_df, [\"duration\",\"count\",\"srv_count\",\"serror_rate\",\"log_src_bytes\",\"log_dst_bytes\"], \"label_binary\")\n"
   ]
  },
  {
   "cell_type": "code",
   "execution_count": null,
   "id": "62eb2f80",
   "metadata": {},
   "outputs": [],
   "source": [
    "def cat_by_label(df, cat, hue, top_k=10, out=\"report/figs/cat_counts_by_label.png\"):\n",
    "    vc = df[cat].value_counts().head(top_k).index\n",
    "    tmp = df[df[cat].isin(vc)]\n",
    "    plt.figure(figsize=(10,5))\n",
    "    sns.countplot(data=tmp, x=cat, hue=hue)\n",
    "    plt.title(f\"{cat} (top {top_k}) by {hue}\")\n",
    "    plt.xticks(rotation=45, ha=\"right\")\n",
    "    plt.tight_layout(); plt.savefig(out); plt.show()\n",
    "\n",
    "cat_by_label(raw_df, \"service\", \"label_binary\", top_k=12, out=\"report/figs/service_by_binary.png\")\n",
    "cat_by_label(raw_df, \"flag\", \"label_binary\", top_k=8, out=\"report/figs/flag_by_binary.png\")\n"
   ]
  },
  {
   "cell_type": "code",
   "execution_count": null,
   "id": "8e793e0b",
   "metadata": {},
   "outputs": [],
   "source": [
    "corr = raw_df[num_cols].corr()\n",
    "plt.figure(figsize=(6,5))\n",
    "sns.heatmap(corr, annot=False, cmap=\"coolwarm\", center=0)\n",
    "plt.title(\"Numeric feature correlation (raw)\")\n",
    "plt.tight_layout(); plt.savefig(\"report/figs/corr_numeric_raw.png\"); plt.show()\n"
   ]
  }
 ],
 "metadata": {
  "language_info": {
   "name": "python"
  }
 },
 "nbformat": 4,
 "nbformat_minor": 5
}
